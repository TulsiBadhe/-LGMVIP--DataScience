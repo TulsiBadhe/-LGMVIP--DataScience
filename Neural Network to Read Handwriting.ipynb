{
 "cells": [
  {
   "cell_type": "markdown",
   "id": "f1eea0a5",
   "metadata": {},
   "source": [
    "# Neural Network to Read Handwriting"
   ]
  },
  {
   "cell_type": "markdown",
   "id": "6ab73237",
   "metadata": {},
   "source": [
    "# Advanced Level Task-1"
   ]
  },
  {
   "cell_type": "markdown",
   "id": "596673ba",
   "metadata": {},
   "source": [
    "## Import required libraries and packages"
   ]
  },
  {
   "cell_type": "code",
   "execution_count": 2,
   "id": "41a5e398",
   "metadata": {},
   "outputs": [],
   "source": [
    "# Importing Libraries\n",
    "import numpy as np\n",
    "import pandas as pd\n",
    "import matplotlib.pyplot as plt\n",
    "import seaborn as sns\n",
    "from numpy import unique , argmax \n",
    "\n",
    "# TensorFlow already contain MNIST data set which can be loaded using Keras\n",
    "import tensorflow as tf # installing tenserflow\n",
    "from tensorflow.keras import layers"
   ]
  },
  {
   "cell_type": "markdown",
   "id": "9f5e25aa",
   "metadata": {},
   "source": [
    "## Load the MNIST Dataset"
   ]
  },
  {
   "cell_type": "markdown",
   "id": "16963231",
   "metadata": {},
   "source": [
    "The MNIST dataset is a widely used dataset in machine learning and consists of a set of 60,000 training images and 10,000 test images of handwritten digits from 0 to 9."
   ]
  },
  {
   "cell_type": "code",
   "execution_count": 3,
   "id": "55cf2ff5",
   "metadata": {},
   "outputs": [],
   "source": [
    "# load the data \n",
    "(x_train,y_train), (x_test,y_test) = tf.keras.datasets.mnist.load_data()"
   ]
  },
  {
   "cell_type": "markdown",
   "id": "5b254023",
   "metadata": {},
   "source": [
    "## Preprocess the data"
   ]
  },
  {
   "cell_type": "code",
   "execution_count": 4,
   "id": "eb4572d1",
   "metadata": {},
   "outputs": [
    {
     "name": "stdout",
     "output_type": "stream",
     "text": [
      "(60000, 28, 28)\n",
      "(10000, 28, 28)\n",
      "(60000,)\n",
      "(10000,)\n"
     ]
    }
   ],
   "source": [
    "## checking the shapes of training and testing dataset\n",
    "print(x_train.shape)\n",
    "print(x_test.shape)\n",
    "print(y_train.shape)\n",
    "print(y_test.shape)"
   ]
  },
  {
   "cell_type": "code",
   "execution_count": 5,
   "id": "350a6936",
   "metadata": {},
   "outputs": [
    {
     "name": "stdout",
     "output_type": "stream",
     "text": [
      "[[[0 0 0 ... 0 0 0]\n",
      "  [0 0 0 ... 0 0 0]\n",
      "  [0 0 0 ... 0 0 0]\n",
      "  ...\n",
      "  [0 0 0 ... 0 0 0]\n",
      "  [0 0 0 ... 0 0 0]\n",
      "  [0 0 0 ... 0 0 0]]\n",
      "\n",
      " [[0 0 0 ... 0 0 0]\n",
      "  [0 0 0 ... 0 0 0]\n",
      "  [0 0 0 ... 0 0 0]\n",
      "  ...\n",
      "  [0 0 0 ... 0 0 0]\n",
      "  [0 0 0 ... 0 0 0]\n",
      "  [0 0 0 ... 0 0 0]]\n",
      "\n",
      " [[0 0 0 ... 0 0 0]\n",
      "  [0 0 0 ... 0 0 0]\n",
      "  [0 0 0 ... 0 0 0]\n",
      "  ...\n",
      "  [0 0 0 ... 0 0 0]\n",
      "  [0 0 0 ... 0 0 0]\n",
      "  [0 0 0 ... 0 0 0]]\n",
      "\n",
      " ...\n",
      "\n",
      " [[0 0 0 ... 0 0 0]\n",
      "  [0 0 0 ... 0 0 0]\n",
      "  [0 0 0 ... 0 0 0]\n",
      "  ...\n",
      "  [0 0 0 ... 0 0 0]\n",
      "  [0 0 0 ... 0 0 0]\n",
      "  [0 0 0 ... 0 0 0]]\n",
      "\n",
      " [[0 0 0 ... 0 0 0]\n",
      "  [0 0 0 ... 0 0 0]\n",
      "  [0 0 0 ... 0 0 0]\n",
      "  ...\n",
      "  [0 0 0 ... 0 0 0]\n",
      "  [0 0 0 ... 0 0 0]\n",
      "  [0 0 0 ... 0 0 0]]\n",
      "\n",
      " [[0 0 0 ... 0 0 0]\n",
      "  [0 0 0 ... 0 0 0]\n",
      "  [0 0 0 ... 0 0 0]\n",
      "  ...\n",
      "  [0 0 0 ... 0 0 0]\n",
      "  [0 0 0 ... 0 0 0]\n",
      "  [0 0 0 ... 0 0 0]]]\n"
     ]
    }
   ],
   "source": [
    "#  displayiing the data of x_train\n",
    "print(x_train)"
   ]
  },
  {
   "cell_type": "markdown",
   "id": "8e4ca8ef",
   "metadata": {},
   "source": [
    "#### 1.Reshaping the input data which is work as a input for CNN\n",
    "#### 2.The original shape of x_train is (num_train_samples, 28, 28), where num_train_samples is the number of training samples, and 28 by 28 represents the dimensions of each image\n",
    "#### 3.CNN takes the input data with the shape,(num_samples, height, width, channels)..\n",
    "#### 4.Images are grayscale, so the channel value is set to 1\n",
    "#### 5.After reshaping the datatype of array will change to float32 which is common data type used in deep learning."
   ]
  },
  {
   "cell_type": "code",
   "execution_count": 6,
   "id": "bc2044db",
   "metadata": {},
   "outputs": [],
   "source": [
    "x_train = x_train.reshape(x_train.shape[0], 28, 28, 1).astype('float32')\n",
    "x_test = x_test.reshape(x_test.shape[0], 28, 28, 1).astype('float32')"
   ]
  },
  {
   "cell_type": "markdown",
   "id": "f95fd54c",
   "metadata": {},
   "source": [
    "## Normalization"
   ]
  },
  {
   "cell_type": "markdown",
   "id": "c166fac0",
   "metadata": {},
   "source": [
    "The original pixel values in the MNIST dataset range from 0 to 255, where 0 represents black and 255 represents white.\n",
    "Dividing the pixel values by 255 normalizes the data so that the values are scaled between 0 and 1."
   ]
  },
  {
   "cell_type": "code",
   "execution_count": 7,
   "id": "e56318ab",
   "metadata": {},
   "outputs": [
    {
     "name": "stdout",
     "output_type": "stream",
     "text": [
      "float32\n",
      "float32\n"
     ]
    }
   ],
   "source": [
    "x_train /= 255\n",
    "x_test /= 255\n",
    "print(x_train.dtype)\n",
    "print(x_test.dtype)"
   ]
  },
  {
   "cell_type": "code",
   "execution_count": 8,
   "id": "8b1e7da3",
   "metadata": {},
   "outputs": [
    {
     "name": "stdout",
     "output_type": "stream",
     "text": [
      "(60000, 10)\n",
      "(10000, 10)\n"
     ]
    }
   ],
   "source": [
    "y_train = tf.keras.utils.to_categorical(y_train, num_classes=10)\n",
    "y_test = tf.keras.utils.to_categorical(y_test, num_classes=10)\n",
    "print(y_train.shape)\n",
    "print(y_test.shape)"
   ]
  },
  {
   "cell_type": "markdown",
   "id": "d69775bf",
   "metadata": {},
   "source": [
    "## Building the neural network architecture"
   ]
  },
  {
   "cell_type": "code",
   "execution_count": 9,
   "id": "7ac2aa5f",
   "metadata": {},
   "outputs": [],
   "source": [
    "model = tf.keras.Sequential([\n",
    "    layers.Conv2D(32, (3,3), activation='relu', input_shape=(28,28,1)),\n",
    "    layers.MaxPooling2D((2,2)),\n",
    "    layers.Conv2D(64, (3,3), activation='relu'),\n",
    "    layers.Flatten(),\n",
    "    layers.Dense(10, activation='softmax')\n",
    "])"
   ]
  },
  {
   "cell_type": "code",
   "execution_count": 10,
   "id": "fb6ddcbc",
   "metadata": {},
   "outputs": [
    {
     "name": "stdout",
     "output_type": "stream",
     "text": [
      "Model: \"sequential\"\n",
      "_________________________________________________________________\n",
      " Layer (type)                Output Shape              Param #   \n",
      "=================================================================\n",
      " conv2d (Conv2D)             (None, 26, 26, 32)        320       \n",
      "                                                                 \n",
      " max_pooling2d (MaxPooling2D  (None, 13, 13, 32)       0         \n",
      " )                                                               \n",
      "                                                                 \n",
      " conv2d_1 (Conv2D)           (None, 11, 11, 64)        18496     \n",
      "                                                                 \n",
      " flatten (Flatten)           (None, 7744)              0         \n",
      "                                                                 \n",
      " dense (Dense)               (None, 10)                77450     \n",
      "                                                                 \n",
      "=================================================================\n",
      "Total params: 96,266\n",
      "Trainable params: 96,266\n",
      "Non-trainable params: 0\n",
      "_________________________________________________________________\n"
     ]
    }
   ],
   "source": [
    "model.summary()"
   ]
  },
  {
   "cell_type": "markdown",
   "id": "3d2d6152",
   "metadata": {},
   "source": [
    "This summary shows that the model has five layers:\n",
    "\n",
    "Conv2D: This layer performs convolutional operations on the input. It has 32 filters of size 3x3 and applies the\n",
    "ReLU activation function. The output shape is (None, 26, 26, 32), where None represents the batch size.\n",
    "\n",
    "MaxPooling2D: This layer performs max pooling, which reduces the spatial dimensions of the input.\n",
    "It uses a 2x2 pooling window. The output shape is (None, 13, 13, 32), as the pooling operation reduces each spatial\n",
    "dimension by a factor of 2.\n",
    "\n",
    "Conv2D: This layer is similar to the previous Conv2D layer but has 64 filters instead of 32.\n",
    "The output shape is (None, 11, 11, 64).\n",
    "\n",
    "Flatten: This layer flattens the previous output, converting it from a 4D tensor to a 2D tensor.\n",
    "The output shape is (None, 7744), where 7744 is the result of multiplying the spatial dimensions.\n",
    "\n",
    "Dense: This layer is a fully connected layer with 10 units and applies the ReLU activation function.\n",
    "It takes the flattened input and produces an output of shape (None, 10), where 10 represents the number of classes in\n",
    "the classification task."
   ]
  },
  {
   "cell_type": "markdown",
   "id": "7b34599a",
   "metadata": {},
   "source": [
    "## plot a neural network model"
   ]
  },
  {
   "cell_type": "markdown",
   "id": "4eecf189",
   "metadata": {},
   "source": [
    "## Compile the model"
   ]
  },
  {
   "cell_type": "code",
   "execution_count": 11,
   "id": "27a93219",
   "metadata": {},
   "outputs": [],
   "source": [
    "model.compile(loss='categorical_crossentropy', optimizer='adam', metrics=['accuracy'])"
   ]
  },
  {
   "cell_type": "markdown",
   "id": "10c41da1",
   "metadata": {},
   "source": [
    "## Train the model"
   ]
  },
  {
   "cell_type": "code",
   "execution_count": 12,
   "id": "57a2db6c",
   "metadata": {},
   "outputs": [
    {
     "name": "stdout",
     "output_type": "stream",
     "text": [
      "Epoch 1/10\n",
      "300/300 - 49s - loss: 0.2572 - accuracy: 0.9281 - val_loss: 0.0776 - val_accuracy: 0.9756 - 49s/epoch - 165ms/step\n",
      "Epoch 2/10\n",
      "300/300 - 48s - loss: 0.0745 - accuracy: 0.9776 - val_loss: 0.0571 - val_accuracy: 0.9820 - 48s/epoch - 160ms/step\n",
      "Epoch 3/10\n",
      "300/300 - 53s - loss: 0.0532 - accuracy: 0.9838 - val_loss: 0.0505 - val_accuracy: 0.9846 - 53s/epoch - 176ms/step\n",
      "Epoch 4/10\n",
      "300/300 - 45s - loss: 0.0442 - accuracy: 0.9860 - val_loss: 0.0416 - val_accuracy: 0.9867 - 45s/epoch - 151ms/step\n",
      "Epoch 5/10\n",
      "300/300 - 49s - loss: 0.0354 - accuracy: 0.9893 - val_loss: 0.0374 - val_accuracy: 0.9889 - 49s/epoch - 162ms/step\n",
      "Epoch 6/10\n",
      "300/300 - 51s - loss: 0.0305 - accuracy: 0.9905 - val_loss: 0.0383 - val_accuracy: 0.9879 - 51s/epoch - 171ms/step\n",
      "Epoch 7/10\n",
      "300/300 - 51s - loss: 0.0250 - accuracy: 0.9925 - val_loss: 0.0382 - val_accuracy: 0.9880 - 51s/epoch - 170ms/step\n",
      "Epoch 8/10\n",
      "300/300 - 46s - loss: 0.0213 - accuracy: 0.9935 - val_loss: 0.0398 - val_accuracy: 0.9882 - 46s/epoch - 155ms/step\n",
      "Epoch 9/10\n",
      "300/300 - 50s - loss: 0.0188 - accuracy: 0.9937 - val_loss: 0.0387 - val_accuracy: 0.9880 - 50s/epoch - 167ms/step\n",
      "Epoch 10/10\n",
      "300/300 - 48s - loss: 0.0154 - accuracy: 0.9953 - val_loss: 0.0369 - val_accuracy: 0.9888 - 48s/epoch - 161ms/step\n"
     ]
    },
    {
     "data": {
      "text/plain": [
       "<keras.callbacks.History at 0x10984e6bd30>"
      ]
     },
     "execution_count": 12,
     "metadata": {},
     "output_type": "execute_result"
    }
   ],
   "source": [
    "# Train the model\n",
    "model.fit(x_train, y_train, validation_data=(x_test, y_test), epochs=10, batch_size=200, verbose=2)"
   ]
  },
  {
   "cell_type": "markdown",
   "id": "9bfb4df9",
   "metadata": {},
   "source": [
    "## Grayscale Image"
   ]
  },
  {
   "cell_type": "code",
   "execution_count": 13,
   "id": "79c69509",
   "metadata": {},
   "outputs": [
    {
     "data": {
      "image/png": "[encoded data removed]",
      "text/plain": [
       "<Figure size 640x480 with 1 Axes>"
      ]
     },
     "metadata": {},
     "output_type": "display_data"
    }
   ],
   "source": [
    "#Displaying a Grayscale Image\n",
    "img = x_train[25]\n",
    "plt.imshow(np.squeeze(img) ,cmap='gray')\n",
    "plt.show()"
   ]
  },
  {
   "cell_type": "markdown",
   "id": "1c3943b1",
   "metadata": {},
   "source": [
    "## Evaluate the model"
   ]
  },
  {
   "cell_type": "code",
   "execution_count": 14,
   "id": "b8ed564e",
   "metadata": {},
   "outputs": [
    {
     "name": "stdout",
     "output_type": "stream",
     "text": [
      "313/313 [==============================] - 4s 10ms/step - loss: 0.0369 - accuracy: 0.9888\n",
      "Test accuracy: 0.9887999892234802\n"
     ]
    }
   ],
   "source": [
    "test_loss, test_acc = model.evaluate(x_test, y_test)\n",
    "print('Test accuracy:', test_acc)"
   ]
  },
  {
   "cell_type": "code",
   "execution_count": 15,
   "id": "c6ec39e7",
   "metadata": {},
   "outputs": [
    {
     "name": "stdout",
     "output_type": "stream",
     "text": [
      "Accuracy: 98.88%\n"
     ]
    }
   ],
   "source": [
    "# Evaluate the model\n",
    "scores = model.evaluate(x_test, y_test, verbose=0)\n",
    "print(\"Accuracy: %.2f%%\" % (scores[1] * 100))"
   ]
  },
  {
   "cell_type": "markdown",
   "id": "ab84c02b",
   "metadata": {},
   "source": [
    "## Predicting the Result"
   ]
  },
  {
   "cell_type": "code",
   "execution_count": 16,
   "id": "56b0b73c",
   "metadata": {},
   "outputs": [
    {
     "name": "stdout",
     "output_type": "stream",
     "text": [
      "1/1 [==============================] - 1s 594ms/step\n",
      "Predicted class: 2\n"
     ]
    }
   ],
   "source": [
    "img= img.reshape(1, 28, 28, 1)\n",
    "a= model.predict([img])\n",
    "predicted_class = np.argmax(a)\n",
    "print(\"Predicted class: {}\".format(predicted_class))"
   ]
  },
  {
   "cell_type": "markdown",
   "id": "bfcb29c5",
   "metadata": {},
   "source": [
    "# Conclusion"
   ]
  },
  {
   "cell_type": "markdown",
   "id": "d07ee175",
   "metadata": {},
   "source": [
    "### Prediction accuracy is about 98.88%."
   ]
  },
  {
   "cell_type": "markdown",
   "id": "a5c6fbd0",
   "metadata": {},
   "source": [
    "#### -------------------------------------------------------------------------"
   ]
  }
 ],
 "metadata": {
  "kernelspec": {
   "display_name": "Python 3 (ipykernel)",
   "language": "python",
   "name": "python3"
  },
  "language_info": {
   "codemirror_mode": {
    "name": "ipython",
    "version": 3
   },
   "file_extension": ".py",
   "mimetype": "text/x-python",
   "name": "python",
   "nbconvert_exporter": "python",
   "pygments_lexer": "ipython3",
   "version": "3.10.9"
  }
 },
 "nbformat": 4,
 "nbformat_minor": 5
}
